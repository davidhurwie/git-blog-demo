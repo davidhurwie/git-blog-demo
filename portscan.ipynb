{
 "cells": [
  {
   "cell_type": "code",
   "execution_count": 26,
   "id": "59bef873",
   "metadata": {},
   "outputs": [],
   "source": [
    "import socket"
   ]
  },
  {
   "cell_type": "code",
   "execution_count": 36,
   "id": "5dbaf3b4",
   "metadata": {},
   "outputs": [
    {
     "name": "stdout",
     "output_type": "stream",
     "text": [
      "192.168.2.1\n"
     ]
    }
   ],
   "source": [
    "target = '192.168.2.1'\n",
    "targetIP = socket.gethostbyname(target)\n",
    "print(targetIP)\n",
    "ports = []"
   ]
  },
  {
   "cell_type": "code",
   "execution_count": 37,
   "id": "5228eef9",
   "metadata": {},
   "outputs": [],
   "source": [
    "def port_scan(port_num):\n",
    "    ourSocket = socket.socket(socket.AF_INET, socket.SOCK_STREAM)\n",
    "    ourSocket.settimeout(0.1)\n",
    "    if ourSocket.connect_ex((target, port_num)) ==0:\n",
    "        ports.append(port_num)\n",
    "    ourSocket.close()"
   ]
  },
  {
   "cell_type": "code",
   "execution_count": 40,
   "id": "68e41438",
   "metadata": {},
   "outputs": [
    {
     "name": "stdout",
     "output_type": "stream",
     "text": [
      "Target IP: 192.168.2.1 | Target IP: 192.168.2.1\n",
      "Port 80: OPEN\n",
      "Port 81: OPEN\n",
      "Port 443: OPEN\n",
      "Port 23: OPEN\n",
      "Port 53: OPEN\n",
      "Port 80: OPEN\n",
      "Port 81: OPEN\n",
      "Port 443: OPEN\n",
      "Port 4445: OPEN\n",
      "Port 8888: OPEN\n"
     ]
    }
   ],
   "source": [
    "for x in range(8000,9000):\n",
    "    port_scan(x)\n",
    "    \n",
    "print(\"Target IP: {} | Target IP: {}\".format(target, targetIP))\n",
    "\n",
    "for port in ports:\n",
    "    print(\"Port {}: OPEN\".format(port))"
   ]
  },
  {
   "cell_type": "code",
   "execution_count": null,
   "id": "8eecb390",
   "metadata": {},
   "outputs": [],
   "source": []
  },
  {
   "cell_type": "code",
   "execution_count": null,
   "id": "560177be",
   "metadata": {},
   "outputs": [],
   "source": []
  }
 ],
 "metadata": {
  "kernelspec": {
   "display_name": "Python 3 (ipykernel)",
   "language": "python",
   "name": "python3"
  },
  "language_info": {
   "codemirror_mode": {
    "name": "ipython",
    "version": 3
   },
   "file_extension": ".py",
   "mimetype": "text/x-python",
   "name": "python",
   "nbconvert_exporter": "python",
   "pygments_lexer": "ipython3",
   "version": "3.9.12"
  }
 },
 "nbformat": 4,
 "nbformat_minor": 5
}
